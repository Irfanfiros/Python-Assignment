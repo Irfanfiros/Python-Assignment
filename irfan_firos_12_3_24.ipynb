{
  "nbformat": 4,
  "nbformat_minor": 0,
  "metadata": {
    "colab": {
      "provenance": []
    },
    "kernelspec": {
      "name": "python3",
      "display_name": "Python 3"
    },
    "language_info": {
      "name": "python"
    }
  },
  "cells": [
    {
      "cell_type": "code",
      "source": [
        "'''2 Write a Python function to find the maximum of three numbers Sample input:34,12,7 Sample output: 34 '''"
      ],
      "metadata": {
        "colab": {
          "base_uri": "https://localhost:8080/",
          "height": 36
        },
        "id": "N61m3K3iVqBm",
        "outputId": "247f83bd-26da-42a5-85a1-71a89084c797"
      },
      "execution_count": 72,
      "outputs": [
        {
          "output_type": "execute_result",
          "data": {
            "text/plain": [
              "'2 Write a Python function to find the maximum of three numbers Sample input:34,12,7 Sample output: 34 '"
            ],
            "application/vnd.google.colaboratory.intrinsic+json": {
              "type": "string"
            }
          },
          "metadata": {},
          "execution_count": 72
        }
      ]
    },
    {
      "cell_type": "code",
      "source": [
        "def max(a, b, c):\n",
        "\n",
        "  if a > b:\n",
        "    if a > c:\n",
        "      return a\n",
        "    else:\n",
        "      return c\n",
        "  else:\n",
        "    if b > c:\n",
        "      return b\n",
        "    else:\n",
        "      return c\n",
        "a=int(input('enter first number'))\n",
        "b=int(input('enter second number'))\n",
        "c=int(input('enter third number'))\n",
        "print (max(a,b,c))\n",
        "\n",
        ""
      ],
      "metadata": {
        "colab": {
          "base_uri": "https://localhost:8080/"
        },
        "id": "7Nu3wCK-VqXe",
        "outputId": "5b62e80c-45f7-42fb-b6e0-3cf00ca6af41"
      },
      "execution_count": 73,
      "outputs": [
        {
          "output_type": "stream",
          "name": "stdout",
          "text": [
            "enter first number15\n",
            "enter second number16\n",
            "enter third number18\n",
            "18\n"
          ]
        }
      ]
    },
    {
      "cell_type": "code",
      "source": [
        "'''1 Write a Python function to accept a string value from the user and display the count of each character in that string. Sample input: Enter a string value: assembly Sample output: a=1, s=2, e=1, m=1, b=1, l=1, y=1'''"
      ],
      "metadata": {
        "colab": {
          "base_uri": "https://localhost:8080/",
          "height": 53
        },
        "id": "RDjLVT7neNUq",
        "outputId": "5c7b35c8-1104-4d27-c750-f23031045937"
      },
      "execution_count": 63,
      "outputs": [
        {
          "output_type": "execute_result",
          "data": {
            "text/plain": [
              "'1 Write a Python function to accept a string value from the user and display the count of each character in that string. Sample input: Enter a string value: assembly Sample output: a=1, s=2, e=1, m=1, b=1, l=1, y=1'"
            ],
            "application/vnd.google.colaboratory.intrinsic+json": {
              "type": "string"
            }
          },
          "metadata": {},
          "execution_count": 63
        }
      ]
    },
    {
      "cell_type": "code",
      "source": [
        "def count_char(string):\n",
        "  counts = {}\n",
        "  for char in string:\n",
        "    if char not in counts:\n",
        "      counts[char] = 0\n",
        "    counts[char] += 1\n",
        "  return counts\n",
        "user_string = input(\"Enter a string value: \")\n",
        "char_counts = count_char(user_string)\n",
        "for char, count in char_counts.items():\n",
        "  print(f\"{char}={count}\")"
      ],
      "metadata": {
        "colab": {
          "base_uri": "https://localhost:8080/"
        },
        "id": "IagQToyFecTL",
        "outputId": "263f82d8-3bd2-4a57-cfb5-03e5a33055be"
      },
      "execution_count": 33,
      "outputs": [
        {
          "output_type": "stream",
          "name": "stdout",
          "text": [
            "Enter a string value: irfan firos\n",
            "i=2\n",
            "r=2\n",
            "f=2\n",
            "a=1\n",
            "n=1\n",
            " =1\n",
            "o=1\n",
            "s=1\n"
          ]
        }
      ]
    },
    {
      "cell_type": "code",
      "source": [],
      "metadata": {
        "id": "Ao283vix6LHA"
      },
      "execution_count": null,
      "outputs": []
    },
    {
      "cell_type": "code",
      "source": [
        "'''3 Write a Python function called exponent(base,exp) that returns an integer value of base raises to the power of exp. Sample input: Enter the base: 2 Enter the exponent: 3 Sample output: 8'''"
      ],
      "metadata": {
        "colab": {
          "base_uri": "https://localhost:8080/",
          "height": 53
        },
        "id": "8PVUkKf2evfz",
        "outputId": "89ecd9e0-499d-4c22-d8b9-240843d8b198"
      },
      "execution_count": 64,
      "outputs": [
        {
          "output_type": "execute_result",
          "data": {
            "text/plain": [
              "'3 Write a Python function called exponent(base,exp) that returns an integer value of base raises to the power of exp. Sample input: Enter the base: 2 Enter the exponent: 3 Sample output: 8'"
            ],
            "application/vnd.google.colaboratory.intrinsic+json": {
              "type": "string"
            }
          },
          "metadata": {},
          "execution_count": 64
        }
      ]
    },
    {
      "cell_type": "code",
      "source": [
        "def exponent(base, exp):\n",
        " if exp == 0:\n",
        "    return 1\n",
        " else:\n",
        "    return base * exponent(base, exp - 1)\n",
        "base = int(input(\"Enter the base: \"))\n",
        "exp = int(input(\"Enter the exponent: \"))\n",
        "result = exponent(base, exp)\n",
        "print(f\"{base} raised to the power of {exp} is: {result}\")"
      ],
      "metadata": {
        "colab": {
          "base_uri": "https://localhost:8080/"
        },
        "id": "KkTBaeQHe4x0",
        "outputId": "56b2d0bc-e9ed-4875-c5c7-ca3dd7a81f0e"
      },
      "execution_count": 40,
      "outputs": [
        {
          "output_type": "stream",
          "name": "stdout",
          "text": [
            "Enter the base: 2\n",
            "Enter the exponent: 3\n",
            "2 raised to the power of 3 is: 8\n"
          ]
        }
      ]
    },
    {
      "cell_type": "code",
      "source": [
        "'''4 Write a Python function that takes a positive integer and returns the sum of\n",
        "the cube of all the positive integers smaller than the specified number.\n",
        "Sample input: 4 Sample output: 36.'''"
      ],
      "metadata": {
        "colab": {
          "base_uri": "https://localhost:8080/",
          "height": 53
        },
        "id": "OGjNdoANrKM1",
        "outputId": "8db54414-f596-466c-d1f2-5b070b6b3b93"
      },
      "execution_count": 65,
      "outputs": [
        {
          "output_type": "execute_result",
          "data": {
            "text/plain": [
              "'4 Write a Python function that takes a positive integer and returns the sum of\\nthe cube of all the positive integers smaller than the specified number.\\nSample input: 4 Sample output: 36.'"
            ],
            "application/vnd.google.colaboratory.intrinsic+json": {
              "type": "string"
            }
          },
          "metadata": {},
          "execution_count": 65
        }
      ]
    },
    {
      "cell_type": "code",
      "source": [
        "def sumofcube(a):\n",
        "  sum=0\n",
        "  if a>0:\n",
        "    for i in range(1,a):\n",
        "      sum+=i**3\n",
        "  else:\n",
        "    print(\"The given number is not a positive integer!\")\n",
        "  return sum\n",
        "a=int(input(\"Enter the number: \"))\n",
        "b=sumofcube(a)\n",
        "print(\"The sum of positive squared smaller than the specified number is:\",b)"
      ],
      "metadata": {
        "colab": {
          "base_uri": "https://localhost:8080/"
        },
        "id": "UrcrWT8xrLta",
        "outputId": "449263ef-5a50-4309-d05a-a5c19ebd1311"
      },
      "execution_count": 60,
      "outputs": [
        {
          "output_type": "stream",
          "name": "stdout",
          "text": [
            "Enter the number: 10\n",
            "The sum of positive squared smaller than the specified number is: 2025\n"
          ]
        }
      ]
    },
    {
      "cell_type": "code",
      "source": [
        "'''5 Write a Python program which iterates from 1 to 10. For multiples of 2, print\n",
        "“Fizz” instead of the number and for the multiples of 5, print “Buzz”. For\n",
        "numbers which are multiples of both 2 and 5, print “FizzBuzz”.'''"
      ],
      "metadata": {
        "colab": {
          "base_uri": "https://localhost:8080/",
          "height": 53
        },
        "id": "UhriZfqSrlKJ",
        "outputId": "0fdcf18a-bdba-4f4b-ac55-c4b4786a31ff"
      },
      "execution_count": 66,
      "outputs": [
        {
          "output_type": "execute_result",
          "data": {
            "text/plain": [
              "'5 Write a Python program which iterates from 1 to 10. For multiples of 2, print\\n“Fizz” instead of the number and for the multiples of 5, print “Buzz”. For\\nnumbers which are multiples of both 2 and 5, print “FizzBuzz”.'"
            ],
            "application/vnd.google.colaboratory.intrinsic+json": {
              "type": "string"
            }
          },
          "metadata": {},
          "execution_count": 66
        }
      ]
    },
    {
      "cell_type": "code",
      "source": [
        "def fizz_buzz(num):\n",
        "    if num%3==5and num%5==2:\n",
        "        return 'FizzBuzz'\n",
        "\n",
        "    elif num % 10 == 0:\n",
        "        return 'Fizz'\n",
        "\n",
        "    elif num % 5==0:\n",
        "        return 'Buzz'\n",
        "    else:\n",
        "        return num\n",
        "\n",
        "for n in range(1,10):\n",
        "    print(fizz_buzz(n))"
      ],
      "metadata": {
        "colab": {
          "base_uri": "https://localhost:8080/"
        },
        "id": "Nmr3NqmRrxgN",
        "outputId": "24f2665f-fce8-4277-92ab-be14654a6e9e"
      },
      "execution_count": 47,
      "outputs": [
        {
          "output_type": "stream",
          "name": "stdout",
          "text": [
            "1\n",
            "2\n",
            "3\n",
            "4\n",
            "Buzz\n",
            "6\n",
            "7\n",
            "8\n",
            "9\n"
          ]
        }
      ]
    },
    {
      "cell_type": "code",
      "source": [
        "'''7 Write a Python function to find the sum of squares of the numbers in a list.\n",
        "Sample input: 2,1,3,1 Sample output: 15 '''"
      ],
      "metadata": {
        "colab": {
          "base_uri": "https://localhost:8080/",
          "height": 36
        },
        "id": "9WXJ9tJEsQr_",
        "outputId": "2e2d73ea-6dbe-4570-be8b-8e023d548d90"
      },
      "execution_count": 67,
      "outputs": [
        {
          "output_type": "execute_result",
          "data": {
            "text/plain": [
              "'7 Write a Python function to find the sum of squares of the numbers in a list.\\nSample input: 2,1,3,1 Sample output: 15 '"
            ],
            "application/vnd.google.colaboratory.intrinsic+json": {
              "type": "string"
            }
          },
          "metadata": {},
          "execution_count": 67
        }
      ]
    },
    {
      "cell_type": "code",
      "source": [
        "def sum_squares(numbers):\n",
        "  sum_squares = 0\n",
        "  for num1 in num2:\n",
        "    sum_squares += num1 ** 2\n",
        "  return sum_squares\n",
        "  print(sum_squares)"
      ],
      "metadata": {
        "id": "ohJHDZT-tvsb"
      },
      "execution_count": 55,
      "outputs": []
    },
    {
      "cell_type": "code",
      "source": [
        "'''10 Write a Python function to calculate the factorial of a number (a nonnegative\n",
        "integer). The function accepts the number as an argument. Sample input: 3\n",
        "Sample output: 6'''"
      ],
      "metadata": {
        "colab": {
          "base_uri": "https://localhost:8080/",
          "height": 53
        },
        "id": "XTInl0rnwkJN",
        "outputId": "d50ebc96-1d9f-4e5b-8606-3371180e87e9"
      },
      "execution_count": 68,
      "outputs": [
        {
          "output_type": "execute_result",
          "data": {
            "text/plain": [
              "'10 Write a Python function to calculate the factorial of a number (a nonnegative\\ninteger). The function accepts the number as an argument. Sample input: 3\\nSample output: 6'"
            ],
            "application/vnd.google.colaboratory.intrinsic+json": {
              "type": "string"
            }
          },
          "metadata": {},
          "execution_count": 68
        }
      ]
    },
    {
      "cell_type": "code",
      "source": [
        "def factorial(n):\n",
        "  if n == 0:\n",
        "    return 1\n",
        "  else:\n",
        "    return n * factorial(n-1)\n",
        "    number=int(input('enter non negative number'))\n",
        "    print(f\"the factorial of{number}is: {factorial(number)}\")"
      ],
      "metadata": {
        "id": "R6g3O5gvxQpy"
      },
      "execution_count": 76,
      "outputs": []
    },
    {
      "cell_type": "code",
      "source": [
        "'''8 Write a Python program using for loop that will iterate from 1 to 15. For each\n",
        "iteration, check if the current number is odd or even, and display the message\n",
        "to the screen as odd or even. Sample input: 1….15 Sample output: 1-odd 2-\n",
        "even …. 15-odd'''"
      ],
      "metadata": {
        "colab": {
          "base_uri": "https://localhost:8080/",
          "height": 70
        },
        "id": "doplTKWy0CHY",
        "outputId": "5d3b1575-640d-46be-bcb2-7299869af8ae"
      },
      "execution_count": 69,
      "outputs": [
        {
          "output_type": "execute_result",
          "data": {
            "text/plain": [
              "'8 Write a Python program using for loop that will iterate from 1 to 15. For each\\niteration, check if the current number is odd or even, and display the message\\nto the screen as odd or even. Sample input: 1….15 Sample output: 1-odd 2-\\neven …. 15-odd'"
            ],
            "application/vnd.google.colaboratory.intrinsic+json": {
              "type": "string"
            }
          },
          "metadata": {},
          "execution_count": 69
        }
      ]
    },
    {
      "cell_type": "code",
      "source": [
        "for i in range(1,16):\n",
        "  if i % 2==0:\n",
        "    print(f'{i}-even')\n",
        "  else:\n",
        "    print(f'{i})-odd')"
      ],
      "metadata": {
        "colab": {
          "base_uri": "https://localhost:8080/"
        },
        "id": "JhfW0HUb0Il7",
        "outputId": "b42681d6-92f9-4420-a370-9485b574d470"
      },
      "execution_count": 71,
      "outputs": [
        {
          "output_type": "stream",
          "name": "stdout",
          "text": [
            "1)-odd\n",
            "2-even\n",
            "3)-odd\n",
            "4-even\n",
            "5)-odd\n",
            "6-even\n",
            "7)-odd\n",
            "8-even\n",
            "9)-odd\n",
            "10-even\n",
            "11)-odd\n",
            "12-even\n",
            "13)-odd\n",
            "14-even\n",
            "15)-odd\n"
          ]
        }
      ]
    },
    {
      "cell_type": "code",
      "source": [],
      "metadata": {
        "id": "MRyAxUsg1GOE"
      },
      "execution_count": null,
      "outputs": []
    }
  ]
}